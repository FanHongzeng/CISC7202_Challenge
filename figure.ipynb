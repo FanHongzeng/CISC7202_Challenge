{
 "cells": [
  {
   "cell_type": "code",
   "execution_count": 35,
   "metadata": {},
   "outputs": [],
   "source": [
    "import matplotlib.pyplot as plt\n",
    "from PIL import Image\n",
    "import os\n",
    "import matplotlib.image as mpimg\n",
    "import pandas as pd\n",
    "import shutil\n",
    "\n",
    "\n",
    "sort=pd.read_csv('/Users/fanhongzeng/Desktop/OneDrive_1_4-7-2025/test.py/query_street_name.txt',header=None)\n",
    "answer=pd.read_csv('/Users/fanhongzeng/Desktop/challenge_dwq/answer/answer.txt',sep='\\t',header=None)\n",
    "folder_path = '/Users/fanhongzeng/Desktop/challenge_dwq/figure_split/answer_lr0.001_stride1/'"
   ]
  },
  {
   "cell_type": "markdown",
   "metadata": {},
   "source": [
    "### 根据 index 提取 query 和 top10 图片到一个文件夹"
   ]
  },
  {
   "cell_type": "code",
   "execution_count": 19,
   "metadata": {},
   "outputs": [],
   "source": [
    "indexs=[85, 223, 426, 652, 769, 1202, 1444, 1584, 1634, 1754]\n",
    "\n",
    "for index in indexs:\n",
    "    num=index-1\n",
    "    sort_list=list(sort.iloc[num,])\n",
    "    answer_list=list(answer.iloc[num,])\n",
    "    sort_path='/Users/fanhongzeng/Desktop/OneDrive_1_4-7-2025/masked_test_set/University-1652_mask/query_street/'\n",
    "    answer_path='/Users/fanhongzeng/Desktop/OneDrive_1_4-7-2025/masked_test_set/University-1652_mask/gallery_satellite/'\n",
    "    path1=[sort_path+sort_list[0]]\n",
    "    path2=[answer_path+i+'.jpg' for i in answer_list]\n",
    "    image_paths = path1 + path2\n",
    "    destination_folder=folder_path+str(index)\n",
    "    os.makedirs(destination_folder, exist_ok=True)\n",
    "    shutil.copy(path1[0], destination_folder)\n",
    "    os.rename(destination_folder+'/'+sort_list[0], destination_folder+'/query.jpeg')\n",
    "    for i in path2:\n",
    "        shutil.copy(i, destination_folder)\n",
    "    \n",
    "\n",
    "   "
   ]
  },
  {
   "cell_type": "code",
   "execution_count": null,
   "metadata": {},
   "outputs": [],
   "source": [
    "\"\"\" indexs=[85, 223, 426, 652, 769, 1202, 1444, 1584, 1634, 1754]\n",
    "\n",
    "for index in indexs:\n",
    "    num=index-1\n",
    "    sort_list=list(sort.iloc[num,])\n",
    "    answer_list=list(answer.iloc[num,])\n",
    "    sort_path='/Users/fanhongzeng/Desktop/OneDrive_1_4-7-2025/masked_test_set/University-1652_mask/query_street/'\n",
    "    answer_path='/Users/fanhongzeng/Desktop/OneDrive_1_4-7-2025/masked_test_set/University-1652_mask/gallery_satellite/'\n",
    "    path1=[sort_path+sort_list[0]]\n",
    "    path2=[answer_path+i+'.jpg' for i in answer_list]\n",
    "    image_paths = path1 + path2\n",
    "    destination_folder=folder_path+str(index)\n",
    "    #shutil.copy(path1[0], '/Users/fanhongzeng/Desktop/challenge_dwq/test/query_street/')\n",
    "    for i in path2:\n",
    "        shutil.copy(i, '/Users/fanhongzeng/Desktop/challenge_dwq/test/gallery_satellite/') \"\"\"\n",
    "    "
   ]
  }
 ],
 "metadata": {
  "kernelspec": {
   "display_name": "base",
   "language": "python",
   "name": "python3"
  },
  "language_info": {
   "codemirror_mode": {
    "name": "ipython",
    "version": 3
   },
   "file_extension": ".py",
   "mimetype": "text/x-python",
   "name": "python",
   "nbconvert_exporter": "python",
   "pygments_lexer": "ipython3",
   "version": "3.12.2"
  }
 },
 "nbformat": 4,
 "nbformat_minor": 2
}
